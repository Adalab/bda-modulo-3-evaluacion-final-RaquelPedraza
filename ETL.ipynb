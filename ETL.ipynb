{
 "cells": [
  {
   "cell_type": "code",
   "execution_count": 22,
   "metadata": {},
   "outputs": [
    {
     "name": "stdout",
     "output_type": "stream",
     "text": [
      "                         count      mean       std  min  25%  50%  75%   max\n",
      "Education                                                                   \n",
      "Bachelor              252567.0  4.110288  5.221671  0.0  0.0  1.0  8.0  21.0\n",
      "College               102260.0  4.169744  5.246040  0.0  0.0  1.0  8.0  21.0\n",
      "Doctor                 17731.0  4.175512  5.256971  0.0  0.0  1.0  8.0  21.0\n",
      "High School or Below   18915.0  4.176209  5.239267  0.0  0.0  1.0  8.0  21.0\n",
      "Master                 12287.0  4.200700  5.213956  0.0  0.0  1.0  8.0  21.0\n"
     ]
    }
   ],
   "source": [
    "import pandas as pd\n",
    "\n",
    "# 1. Preparación de Datos\n",
    "df = pd.read_csv('Customer_Data.csv')\n",
    "df = df[['Flights Booked', 'Education']]\n",
    "\n",
    "# 2. Análisis Descriptivo\n",
    "estadisticas = df.groupby('Education')['Flights Booked'].describe()\n",
    "print(estadisticas)\n",
    "\n"
   ]
  },
  {
   "cell_type": "markdown",
   "metadata": {},
   "source": [
    "### Conclusión: \n",
    "\n",
    "#### Asimetría en Percentiles:\n",
    "\n",
    "Los percentiles (25%, 50%, 75%) para todos los grupos de educación están concentrados en los valores bajos:\n",
    "- 25%: 0\n",
    "- 50% (mediana): 1\n",
    "- 75%: 8\n",
    "Esto sugiere que hay una gran acumulación de datos cerca de los valores bajos, lo que podría indicar una distribución sesgada a la derecha.\n",
    "\n",
    "#### Desviación Estándar vs Media:\n",
    "\n",
    "La desviación estándar es mayor que la media en todos los grupos de educación. Esto indica una dispersión considerable, característica de distribuciones sesgadas.\n",
    "\n",
    "#### Valor Máximo:\n",
    "\n",
    "Los valores máximos son significativamente más altos que la media (21 vs ~4.11). Esto sugiere la presencia de valores extremos (outliers) que son típicos de una distribución sesgada."
   ]
  },
  {
   "cell_type": "markdown",
   "metadata": {},
   "source": [
    "### Pruebas Estadísticas:"
   ]
  },
  {
   "cell_type": "code",
   "execution_count": 18,
   "metadata": {},
   "outputs": [
    {
     "name": "stdout",
     "output_type": "stream",
     "text": [
      "Estadístico H: 17.532618623121756, Valor p: 0.0015225470219889365\n"
     ]
    }
   ],
   "source": [
    "import pandas as pd\n",
    "import scipy.stats as stats\n",
    "\n",
    "# Supongamos que df ya está definido\n",
    "\n",
    "# Agrupar datos por nivel de educación\n",
    "bachelor = df[df['Education'] == 'Bachelor']['Flights Booked']\n",
    "college = df[df['Education'] == 'College']['Flights Booked']\n",
    "doctor = df[df['Education'] == 'Doctor']['Flights Booked']\n",
    "high_school = df[df['Education'] == 'High School or Below']['Flights Booked']\n",
    "master = df[df['Education'] == 'Master']['Flights Booked']\n",
    "\n",
    "# Realizar prueba de Kruskal-Wallis\n",
    "kruskal_test = stats.kruskal(bachelor, college, doctor, high_school, master)\n",
    "print(f\"Estadístico H: {kruskal_test.statistic}, Valor p: {kruskal_test.pvalue}\")\n"
   ]
  },
  {
   "cell_type": "markdown",
   "metadata": {},
   "source": [
    "- Estadísticas Descriptivas: Para cada nivel de educación, muestran cómo se distribuyen los vuelos reservados.\n",
    "- ANOVA: Compara las medias de vuelos reservados entre los diferentes niveles de educación para ver si hay diferencias significativas.\n",
    "- Tukey HSD: Similar al anterior, determina entre qué grupos de educación existen diferencias significativas en el número de vuelos reservados."
   ]
  },
  {
   "cell_type": "code",
   "execution_count": 15,
   "metadata": {},
   "outputs": [
    {
     "name": "stdout",
     "output_type": "stream",
     "text": [
      "\n",
      "Estadísticas descriptivas & Percentiles:\n",
      "                         count      mean       std  min  25%  50%  75%   max  \\\n",
      "Education                                                                      \n",
      "Bachelor              252567.0  4.110288  5.221671  0.0  0.0  1.0  8.0  21.0   \n",
      "College               102260.0  4.169744  5.246040  0.0  0.0  1.0  8.0  21.0   \n",
      "Doctor                 17731.0  4.175512  5.256971  0.0  0.0  1.0  8.0  21.0   \n",
      "High School or Below   18915.0  4.176209  5.239267  0.0  0.0  1.0  8.0  21.0   \n",
      "Master                 12287.0  4.200700  5.213956  0.0  0.0  1.0  8.0  21.0   \n",
      "\n",
      "                      0.25  0.5  0.75  \n",
      "Education                              \n",
      "Bachelor               0.0  1.0   8.0  \n",
      "College                0.0  1.0   8.0  \n",
      "Doctor                 0.0  1.0   8.0  \n",
      "High School or Below   0.0  1.0   8.0  \n",
      "Master                 0.0  1.0   8.0  \n",
      "\n",
      "Prueba ANOVA:\n",
      "F_onewayResult(statistic=3.57895773849834, pvalue=0.006352981736019541)\n",
      "\n",
      "Prueba Tukey HSD:\n",
      "              Multiple Comparison of Means - Tukey HSD, FWER=0.05              \n",
      "===============================================================================\n",
      "       group1               group2        meandiff p-adj   lower  upper  reject\n",
      "-------------------------------------------------------------------------------\n",
      "            Bachelor              College   0.0595 0.0184  0.0066 0.1123   True\n",
      "            Bachelor               Doctor   0.0652 0.4939 -0.0456 0.1761  False\n",
      "            Bachelor High School or Below   0.0659 0.4514 -0.0416 0.1735  False\n",
      "            Bachelor               Master   0.0904 0.3329 -0.0414 0.2222  False\n",
      "             College               Doctor   0.0058 0.9999 -0.1103 0.1218  False\n",
      "             College High School or Below   0.0065 0.9999 -0.1065 0.1194  False\n",
      "             College               Master    0.031  0.972 -0.1053 0.1672  False\n",
      "              Doctor High School or Below   0.0007    1.0 -0.1484 0.1498  False\n",
      "              Doctor               Master   0.0252 0.9941 -0.1423 0.1926  False\n",
      "High School or Below               Master   0.0245 0.9944 -0.1408 0.1898  False\n",
      "-------------------------------------------------------------------------------\n"
     ]
    }
   ],
   "source": [
    "# 3. Prueba Estadística\n",
    "from scipy.stats import f_oneway\n",
    "from statsmodels.stats.multicomp import pairwise_tukeyhsd\n",
    "\n",
    "\n",
    "# Agrupar por nivel educativo y calcular estadísticas descriptivas\n",
    "stats = df.groupby('Education')['Flights Booked'].describe()\n",
    "\n",
    "# Calcular percentiles adicionales\n",
    "percentiles = df.groupby('Education')['Flights Booked'].quantile([0.25, 0.5, 0.75]).unstack()\n",
    "\n",
    "# Combinar las estadísticas descriptivas y los percentiles\n",
    "stats = stats.join(percentiles, rsuffix='_percentile')\n",
    "print(\"\\nEstadísticas descriptivas & Percentiles:\")\n",
    "print(stats)\n",
    "\n",
    "# Extraer las listas de vuelos reservados por cada nivel educativo\n",
    "education_levels = df['Education'].unique()\n",
    "groups = [df[df['Education'] == level]['Flights Booked'] for level in education_levels]\n",
    "\n",
    "# Realizar la prueba ANOVA\n",
    "anova_result = f_oneway(*groups)\n",
    "print(\"\\nPrueba ANOVA:\")\n",
    "print(anova_result)\n",
    "\n",
    "# Realizar la prueba de Tukey HSD\n",
    "tukey = pairwise_tukeyhsd(endog=df['Flights Booked'], groups=df['Education'], alpha=0.05)\n",
    "print(\"\\nPrueba Tukey HSD:\")\n",
    "print(tukey)\n"
   ]
  },
  {
   "cell_type": "markdown",
   "metadata": {},
   "source": [
    "## Interpretación"
   ]
  },
  {
   "cell_type": "markdown",
   "metadata": {},
   "source": [
    "### 1. Estadísticas Descriptivas & Percentiles:\n",
    "Estas tablas muestran estadísticas descriptivas como el recuento (count), la media (mean), la desviación estándar (std), los valores mínimo (min) y máximo (max), así como los percentiles (25%, 50%, 75%) para diferentes niveles de educación (Bachelor, College, Doctor, High School or Below, Master).\n",
    "\n",
    "Por ejemplo, para el nivel de educación \"Bachelor\":\n",
    "\n",
    "Hay 252,567 observaciones.\n",
    "La media de la medida es aproximadamente 4.11, con una desviación estándar de aproximadamente 5.22.\n",
    "Los valores mínimo y máximo son 0 y 21, respectivamente.\n",
    "Los percentiles 25%, 50% (mediana) y 75% son 0, 1, y 8, respectivamente.\n",
    "Esto se repite para cada grupo de nivel educativo.\n"
   ]
  },
  {
   "cell_type": "markdown",
   "metadata": {},
   "source": [
    "\n",
    "### 2. Prueba ANOVA:\n",
    "El resultado de la prueba ANOVA (Análisis de Varianza) indica si hay diferencias significativas en la medida numérica entre los diferentes grupos de educación. En este caso, el estadístico F es 3.5789 y el valor p es 0.00635. Un valor p menor que el nivel de significancia (generalmente 0.05) sugiere que hay diferencias estadísticamente significativas entre al menos algunos de los grupos.\n",
    "\n",
    "### 3. Prueba Tukey HSD:\n",
    "La prueba Tukey HSD (Diferencia Mínima Significativa de Tukey) se utiliza típicamente después de una prueba ANOVA para determinar qué grupos específicos difieren entre sí. La tabla muestra las diferencias medias (meandiff) entre pares de grupos, los intervalos de confianza (lower y upper) para esas diferencias y si se rechaza la hipótesis nula de igualdad de medias para cada par de grupos (reject).\n",
    "\n",
    "### Conclusión: \n",
    "Se rechaza la hipótesis nula de igualdad de medias entre los grupos \"Bachelor\" y \"College\" (reject=True), ya que la diferencia media (meandiff) es significativa y el valor de p ajustado (p-adj) es menor que el nivel de significancia (0.05).\n",
    "En resumen, estos resultados indican que hay diferencias significativas entre al menos algunos de los grupos de educación en términos de la medida numérica analizada, según la prueba ANOVA y la prueba Tukey HSD."
   ]
  }
 ],
 "metadata": {
  "kernelspec": {
   "display_name": "Python 3",
   "language": "python",
   "name": "python3"
  },
  "language_info": {
   "codemirror_mode": {
    "name": "ipython",
    "version": 3
   },
   "file_extension": ".py",
   "mimetype": "text/x-python",
   "name": "python",
   "nbconvert_exporter": "python",
   "pygments_lexer": "ipython3",
   "version": "3.11.8"
  }
 },
 "nbformat": 4,
 "nbformat_minor": 2
}
